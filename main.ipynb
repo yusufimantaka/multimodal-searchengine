{
 "cells": [
  {
   "cell_type": "code",
   "execution_count": 2,
   "metadata": {},
   "outputs": [],
   "source": [
    "import pandas as pd\n",
    "import os\n",
    "import torch\n",
    "import clip\n",
    "from PIL import Image\n",
    "from tqdm import tqdm"
   ]
  },
  {
   "cell_type": "markdown",
   "metadata": {},
   "source": [
    "# Load CLIP"
   ]
  },
  {
   "cell_type": "code",
   "execution_count": 3,
   "metadata": {},
   "outputs": [],
   "source": [
    "device = \"cuda\" if torch.cuda.is_available() else \"cpu\"\n",
    "\n",
    "model, preprocess = clip.load(\"ViT-B/32\", device=device)"
   ]
  },
  {
   "cell_type": "markdown",
   "metadata": {},
   "source": [
    "# Load and Embed Corpus Images"
   ]
  },
  {
   "cell_type": "code",
   "execution_count": 4,
   "metadata": {},
   "outputs": [],
   "source": [
    "corp_2 = pd.read_json('marqo_gs_wfash_1m/corpus_2.json')\n",
    "corp_1 = pd.read_json('marqo_gs_wfash_1m/corpus_1.json')"
   ]
  },
  {
   "cell_type": "code",
   "execution_count": 5,
   "metadata": {},
   "outputs": [],
   "source": [
    "corp_2_transposed = corp_2.T\n",
    "corp_1_transposed = corp_1.T"
   ]
  },
  {
   "cell_type": "code",
   "execution_count": 6,
   "metadata": {},
   "outputs": [],
   "source": [
    "corp_1_transposed['image_local'] = corp_1_transposed['image_local'].apply(\n",
    "    lambda x: os.path.join(\"images_wfash\", os.path.basename(x))\n",
    ")\n",
    "\n",
    "corp_2_transposed['image_local'] = corp_2_transposed['image_local'].apply(\n",
    "    lambda x: os.path.join(\"images_wfash\", os.path.basename(x))\n",
    ")\n",
    "\n"
   ]
  },
  {
   "cell_type": "code",
   "execution_count": 7,
   "metadata": {},
   "outputs": [],
   "source": [
    "# image_paths = corp_1_transposed['image_local'].tolist()\n",
    "# image_embeddings = []\n",
    "# valid_image_ids = []\n",
    "\n",
    "# for i, path in enumerate(tqdm(image_paths)):\n",
    "#     try:\n",
    "#         image = preprocess(Image.open(path)).unsqueeze(0).to(device)\n",
    "#         with torch.no_grad():\n",
    "#             image_embedding = model.encode_image(image)\n",
    "#         image_embeddings.append(image_embedding)\n",
    "#         valid_image_ids.append(i)  # Save index\n",
    "#     except:\n",
    "#         print(f\"Failed to load {path}\")\n",
    "\n",
    "# image_embeddings_tensor = torch.vstack(image_embeddings)\n",
    "\n",
    "# torch.save({\n",
    "#     'embeddings': image_embeddings_tensor,\n",
    "#     'valid_image_ids': valid_image_ids\n",
    "# }, 'clip_corpus1_embeddings.pt')\n",
    "\n",
    "\n",
    "# Already ran, takes 9 hours\n"
   ]
  },
  {
   "cell_type": "code",
   "execution_count": null,
   "metadata": {},
   "outputs": [],
   "source": []
  }
 ],
 "metadata": {
  "kernelspec": {
   "display_name": "Python 3",
   "language": "python",
   "name": "python3"
  },
  "language_info": {
   "codemirror_mode": {
    "name": "ipython",
    "version": 3
   },
   "file_extension": ".py",
   "mimetype": "text/x-python",
   "name": "python",
   "nbconvert_exporter": "python",
   "pygments_lexer": "ipython3",
   "version": "3.13.2"
  }
 },
 "nbformat": 4,
 "nbformat_minor": 2
}
